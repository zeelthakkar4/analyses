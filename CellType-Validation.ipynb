{
 "cells": [
  {
   "cell_type": "code",
   "execution_count": 1,
   "metadata": {},
   "outputs": [],
   "source": [
    "import pandas as pd\n",
    "import seaborn as sns\n",
    "import matplotlib.pyplot as plt\n",
    "import statsmodels.api as sm\n",
    "import numpy as np\n",
    "sns.set(context='talk', style='white', rc={'figure.facecolor':'white'}, font_scale=1)\n",
    "sns.set_style('ticks')"
   ]
  },
  {
   "cell_type": "code",
   "execution_count": 2,
   "metadata": {},
   "outputs": [
    {
     "data": {
      "text/html": [
       "<div>\n",
       "<style scoped>\n",
       "    .dataframe tbody tr th:only-of-type {\n",
       "        vertical-align: middle;\n",
       "    }\n",
       "\n",
       "    .dataframe tbody tr th {\n",
       "        vertical-align: top;\n",
       "    }\n",
       "\n",
       "    .dataframe thead th {\n",
       "        text-align: right;\n",
       "    }\n",
       "</style>\n",
       "<table border=\"1\" class=\"dataframe\">\n",
       "  <thead>\n",
       "    <tr style=\"text-align: right;\">\n",
       "      <th></th>\n",
       "      <th>ID</th>\n",
       "      <th>CD4+</th>\n",
       "      <th>CD8+</th>\n",
       "      <th>mono</th>\n",
       "      <th>Bcells</th>\n",
       "      <th>NK</th>\n",
       "      <th>Nue</th>\n",
       "      <th>Eos</th>\n",
       "    </tr>\n",
       "  </thead>\n",
       "  <tbody>\n",
       "    <tr>\n",
       "      <th>0</th>\n",
       "      <td>CHINFAM-11</td>\n",
       "      <td>0.184082</td>\n",
       "      <td>0.200675</td>\n",
       "      <td>0.042691</td>\n",
       "      <td>0.076032</td>\n",
       "      <td>0.016462</td>\n",
       "      <td>0.480054</td>\n",
       "      <td>0.000003</td>\n",
       "    </tr>\n",
       "    <tr>\n",
       "      <th>1</th>\n",
       "      <td>CHINFAM-19</td>\n",
       "      <td>0.106372</td>\n",
       "      <td>0.044679</td>\n",
       "      <td>0.017786</td>\n",
       "      <td>0.018260</td>\n",
       "      <td>0.047409</td>\n",
       "      <td>0.765489</td>\n",
       "      <td>0.000004</td>\n",
       "    </tr>\n",
       "    <tr>\n",
       "      <th>2</th>\n",
       "      <td>CHINFAM-22</td>\n",
       "      <td>0.141655</td>\n",
       "      <td>0.221334</td>\n",
       "      <td>0.046951</td>\n",
       "      <td>0.040922</td>\n",
       "      <td>0.082415</td>\n",
       "      <td>0.466721</td>\n",
       "      <td>0.000003</td>\n",
       "    </tr>\n",
       "    <tr>\n",
       "      <th>3</th>\n",
       "      <td>CHINFAM-33</td>\n",
       "      <td>0.125805</td>\n",
       "      <td>0.068628</td>\n",
       "      <td>0.045031</td>\n",
       "      <td>0.014951</td>\n",
       "      <td>0.027166</td>\n",
       "      <td>0.718412</td>\n",
       "      <td>0.000007</td>\n",
       "    </tr>\n",
       "    <tr>\n",
       "      <th>4</th>\n",
       "      <td>CHINFAM-45</td>\n",
       "      <td>0.097219</td>\n",
       "      <td>0.113603</td>\n",
       "      <td>0.003153</td>\n",
       "      <td>0.039283</td>\n",
       "      <td>0.085683</td>\n",
       "      <td>0.661057</td>\n",
       "      <td>0.000002</td>\n",
       "    </tr>\n",
       "  </tbody>\n",
       "</table>\n",
       "</div>"
      ],
      "text/plain": [
       "           ID      CD4+      CD8+      mono    Bcells        NK       Nue  \\\n",
       "0  CHINFAM-11  0.184082  0.200675  0.042691  0.076032  0.016462  0.480054   \n",
       "1  CHINFAM-19  0.106372  0.044679  0.017786  0.018260  0.047409  0.765489   \n",
       "2  CHINFAM-22  0.141655  0.221334  0.046951  0.040922  0.082415  0.466721   \n",
       "3  CHINFAM-33  0.125805  0.068628  0.045031  0.014951  0.027166  0.718412   \n",
       "4  CHINFAM-45  0.097219  0.113603  0.003153  0.039283  0.085683  0.661057   \n",
       "\n",
       "        Eos  \n",
       "0  0.000003  \n",
       "1  0.000004  \n",
       "2  0.000003  \n",
       "3  0.000007  \n",
       "4  0.000002  "
      ]
     },
     "execution_count": 2,
     "metadata": {},
     "output_type": "execute_result"
    }
   ],
   "source": [
    "h_data = pd.read_csv(\"/Users/zeel/Desktop/research/GLINT_1.0.4/houseman_estimates.txt\",delimiter=\" \")\n",
    "h_data.head()"
   ]
  },
  {
   "cell_type": "code",
   "execution_count": 3,
   "metadata": {},
   "outputs": [
    {
     "data": {
      "text/html": [
       "<div>\n",
       "<style scoped>\n",
       "    .dataframe tbody tr th:only-of-type {\n",
       "        vertical-align: middle;\n",
       "    }\n",
       "\n",
       "    .dataframe tbody tr th {\n",
       "        vertical-align: top;\n",
       "    }\n",
       "\n",
       "    .dataframe thead th {\n",
       "        text-align: right;\n",
       "    }\n",
       "</style>\n",
       "<table border=\"1\" class=\"dataframe\">\n",
       "  <thead>\n",
       "    <tr style=\"text-align: right;\">\n",
       "      <th></th>\n",
       "      <th>0</th>\n",
       "      <th>1</th>\n",
       "      <th>2</th>\n",
       "      <th>3</th>\n",
       "      <th>4</th>\n",
       "      <th>5</th>\n",
       "      <th>6</th>\n",
       "      <th>7</th>\n",
       "      <th>8</th>\n",
       "      <th>9</th>\n",
       "      <th>...</th>\n",
       "      <th>143</th>\n",
       "      <th>144</th>\n",
       "      <th>145</th>\n",
       "      <th>146</th>\n",
       "      <th>147</th>\n",
       "      <th>148</th>\n",
       "      <th>149</th>\n",
       "      <th>150</th>\n",
       "      <th>151</th>\n",
       "      <th>152</th>\n",
       "    </tr>\n",
       "  </thead>\n",
       "  <tbody>\n",
       "    <tr>\n",
       "      <th>0</th>\n",
       "      <td>CHINFAM-01: Blood_SCZ_Famine1</td>\n",
       "      <td>CHINFAM-02: Blood_CTR_Non_Famine1</td>\n",
       "      <td>CHINFAM-03: Blood_SCZ_Non_Famine1</td>\n",
       "      <td>CHINFAM-04: Blood_CTR_Non_Famine2</td>\n",
       "      <td>CHINFAM-05: Blood_SCZ_Non_Famine2</td>\n",
       "      <td>CHINFAM-06: Blood_CTR_Non_Famine3</td>\n",
       "      <td>CHINFAM-07: Blood_SCZ_Famine2</td>\n",
       "      <td>CHINFAM-08: Blood_SCZ_Non_Famine3</td>\n",
       "      <td>CHINFAM-09: Blood_CTR_Non_Famine4</td>\n",
       "      <td>CHINFAM-10: Blood_SCZ_Non_Famine4</td>\n",
       "      <td>...</td>\n",
       "      <td>CHINFAM-144: Blood_CTR_Famine23</td>\n",
       "      <td>CHINFAM-145: Blood_SCZ_Non_Famine48</td>\n",
       "      <td>CHINFAM-146: Blood_SCZ_Non_Famine49</td>\n",
       "      <td>CHINFAM-147: Blood_SCZ_Non_Famine50</td>\n",
       "      <td>CHINFAM-148: Blood_CTR_Famine24</td>\n",
       "      <td>CHINFAM-149: Blood_CTR_Non_Famine52</td>\n",
       "      <td>CHINFAM-150: Blood_CTR_Non_Famine53</td>\n",
       "      <td>CHINFAM-151: Blood_SCZ_Non_Famine51</td>\n",
       "      <td>CHINFAM-152: Blood_CTR_Famine25</td>\n",
       "      <td>CHINFAM-153: Blood_CTR_Non_Famine54</td>\n",
       "    </tr>\n",
       "    <tr>\n",
       "      <th>1</th>\n",
       "      <td>GSM3230211</td>\n",
       "      <td>GSM3230212</td>\n",
       "      <td>GSM3230213</td>\n",
       "      <td>GSM3230214</td>\n",
       "      <td>GSM3230215</td>\n",
       "      <td>GSM3230216</td>\n",
       "      <td>GSM3230217</td>\n",
       "      <td>GSM3230218</td>\n",
       "      <td>GSM3230219</td>\n",
       "      <td>GSM3230220</td>\n",
       "      <td>...</td>\n",
       "      <td>GSM3230354</td>\n",
       "      <td>GSM3230355</td>\n",
       "      <td>GSM3230356</td>\n",
       "      <td>GSM3230357</td>\n",
       "      <td>GSM3230358</td>\n",
       "      <td>GSM3230359</td>\n",
       "      <td>GSM3230360</td>\n",
       "      <td>GSM3230361</td>\n",
       "      <td>GSM3230362</td>\n",
       "      <td>GSM3230363</td>\n",
       "    </tr>\n",
       "    <tr>\n",
       "      <th>2</th>\n",
       "      <td>Public on Jun 29 2018</td>\n",
       "      <td>Public on Jun 29 2018</td>\n",
       "      <td>Public on Jun 29 2018</td>\n",
       "      <td>Public on Jun 29 2018</td>\n",
       "      <td>Public on Jun 29 2018</td>\n",
       "      <td>Public on Jun 29 2018</td>\n",
       "      <td>Public on Jun 29 2018</td>\n",
       "      <td>Public on Jun 29 2018</td>\n",
       "      <td>Public on Jun 29 2018</td>\n",
       "      <td>Public on Jun 29 2018</td>\n",
       "      <td>...</td>\n",
       "      <td>Public on Jun 29 2018</td>\n",
       "      <td>Public on Jun 29 2018</td>\n",
       "      <td>Public on Jun 29 2018</td>\n",
       "      <td>Public on Jun 29 2018</td>\n",
       "      <td>Public on Jun 29 2018</td>\n",
       "      <td>Public on Jun 29 2018</td>\n",
       "      <td>Public on Jun 29 2018</td>\n",
       "      <td>Public on Jun 29 2018</td>\n",
       "      <td>Public on Jun 29 2018</td>\n",
       "      <td>Public on Jun 29 2018</td>\n",
       "    </tr>\n",
       "    <tr>\n",
       "      <th>3</th>\n",
       "      <td>Jun 28 2018</td>\n",
       "      <td>Jun 28 2018</td>\n",
       "      <td>Jun 28 2018</td>\n",
       "      <td>Jun 28 2018</td>\n",
       "      <td>Jun 28 2018</td>\n",
       "      <td>Jun 28 2018</td>\n",
       "      <td>Jun 28 2018</td>\n",
       "      <td>Jun 28 2018</td>\n",
       "      <td>Jun 28 2018</td>\n",
       "      <td>Jun 28 2018</td>\n",
       "      <td>...</td>\n",
       "      <td>Jun 28 2018</td>\n",
       "      <td>Jun 28 2018</td>\n",
       "      <td>Jun 28 2018</td>\n",
       "      <td>Jun 28 2018</td>\n",
       "      <td>Jun 28 2018</td>\n",
       "      <td>Jun 28 2018</td>\n",
       "      <td>Jun 28 2018</td>\n",
       "      <td>Jun 28 2018</td>\n",
       "      <td>Jun 28 2018</td>\n",
       "      <td>Jun 28 2018</td>\n",
       "    </tr>\n",
       "    <tr>\n",
       "      <th>4</th>\n",
       "      <td>Jun 29 2018</td>\n",
       "      <td>Jun 29 2018</td>\n",
       "      <td>Jun 29 2018</td>\n",
       "      <td>Jun 29 2018</td>\n",
       "      <td>Jun 29 2018</td>\n",
       "      <td>Jun 29 2018</td>\n",
       "      <td>Jun 29 2018</td>\n",
       "      <td>Jun 29 2018</td>\n",
       "      <td>Jun 29 2018</td>\n",
       "      <td>Jun 29 2018</td>\n",
       "      <td>...</td>\n",
       "      <td>Jun 29 2018</td>\n",
       "      <td>Jun 29 2018</td>\n",
       "      <td>Jun 29 2018</td>\n",
       "      <td>Jun 29 2018</td>\n",
       "      <td>Jun 29 2018</td>\n",
       "      <td>Jun 29 2018</td>\n",
       "      <td>Jun 29 2018</td>\n",
       "      <td>Jun 29 2018</td>\n",
       "      <td>Jun 29 2018</td>\n",
       "      <td>Jun 29 2018</td>\n",
       "    </tr>\n",
       "  </tbody>\n",
       "</table>\n",
       "<p>5 rows × 153 columns</p>\n",
       "</div>"
      ],
      "text/plain": [
       "                             0                                  1    \\\n",
       "0  CHINFAM-01: Blood_SCZ_Famine1  CHINFAM-02: Blood_CTR_Non_Famine1   \n",
       "1                     GSM3230211                         GSM3230212   \n",
       "2          Public on Jun 29 2018              Public on Jun 29 2018   \n",
       "3                    Jun 28 2018                        Jun 28 2018   \n",
       "4                    Jun 29 2018                        Jun 29 2018   \n",
       "\n",
       "                                 2                                  3    \\\n",
       "0  CHINFAM-03: Blood_SCZ_Non_Famine1  CHINFAM-04: Blood_CTR_Non_Famine2   \n",
       "1                         GSM3230213                         GSM3230214   \n",
       "2              Public on Jun 29 2018              Public on Jun 29 2018   \n",
       "3                        Jun 28 2018                        Jun 28 2018   \n",
       "4                        Jun 29 2018                        Jun 29 2018   \n",
       "\n",
       "                                 4                                  5    \\\n",
       "0  CHINFAM-05: Blood_SCZ_Non_Famine2  CHINFAM-06: Blood_CTR_Non_Famine3   \n",
       "1                         GSM3230215                         GSM3230216   \n",
       "2              Public on Jun 29 2018              Public on Jun 29 2018   \n",
       "3                        Jun 28 2018                        Jun 28 2018   \n",
       "4                        Jun 29 2018                        Jun 29 2018   \n",
       "\n",
       "                             6                                  7    \\\n",
       "0  CHINFAM-07: Blood_SCZ_Famine2  CHINFAM-08: Blood_SCZ_Non_Famine3   \n",
       "1                     GSM3230217                         GSM3230218   \n",
       "2          Public on Jun 29 2018              Public on Jun 29 2018   \n",
       "3                    Jun 28 2018                        Jun 28 2018   \n",
       "4                    Jun 29 2018                        Jun 29 2018   \n",
       "\n",
       "                                 8                                  9    ...  \\\n",
       "0  CHINFAM-09: Blood_CTR_Non_Famine4  CHINFAM-10: Blood_SCZ_Non_Famine4  ...   \n",
       "1                         GSM3230219                         GSM3230220  ...   \n",
       "2              Public on Jun 29 2018              Public on Jun 29 2018  ...   \n",
       "3                        Jun 28 2018                        Jun 28 2018  ...   \n",
       "4                        Jun 29 2018                        Jun 29 2018  ...   \n",
       "\n",
       "                               143                                  144  \\\n",
       "0  CHINFAM-144: Blood_CTR_Famine23  CHINFAM-145: Blood_SCZ_Non_Famine48   \n",
       "1                       GSM3230354                           GSM3230355   \n",
       "2            Public on Jun 29 2018                Public on Jun 29 2018   \n",
       "3                      Jun 28 2018                          Jun 28 2018   \n",
       "4                      Jun 29 2018                          Jun 29 2018   \n",
       "\n",
       "                                   145                                  146  \\\n",
       "0  CHINFAM-146: Blood_SCZ_Non_Famine49  CHINFAM-147: Blood_SCZ_Non_Famine50   \n",
       "1                           GSM3230356                           GSM3230357   \n",
       "2                Public on Jun 29 2018                Public on Jun 29 2018   \n",
       "3                          Jun 28 2018                          Jun 28 2018   \n",
       "4                          Jun 29 2018                          Jun 29 2018   \n",
       "\n",
       "                               147                                  148  \\\n",
       "0  CHINFAM-148: Blood_CTR_Famine24  CHINFAM-149: Blood_CTR_Non_Famine52   \n",
       "1                       GSM3230358                           GSM3230359   \n",
       "2            Public on Jun 29 2018                Public on Jun 29 2018   \n",
       "3                      Jun 28 2018                          Jun 28 2018   \n",
       "4                      Jun 29 2018                          Jun 29 2018   \n",
       "\n",
       "                                   149                                  150  \\\n",
       "0  CHINFAM-150: Blood_CTR_Non_Famine53  CHINFAM-151: Blood_SCZ_Non_Famine51   \n",
       "1                           GSM3230360                           GSM3230361   \n",
       "2                Public on Jun 29 2018                Public on Jun 29 2018   \n",
       "3                          Jun 28 2018                          Jun 28 2018   \n",
       "4                          Jun 29 2018                          Jun 29 2018   \n",
       "\n",
       "                               151                                  152  \n",
       "0  CHINFAM-152: Blood_CTR_Famine25  CHINFAM-153: Blood_CTR_Non_Famine54  \n",
       "1                       GSM3230362                           GSM3230363  \n",
       "2            Public on Jun 29 2018                Public on Jun 29 2018  \n",
       "3                      Jun 28 2018                          Jun 28 2018  \n",
       "4                      Jun 29 2018                          Jun 29 2018  \n",
       "\n",
       "[5 rows x 153 columns]"
      ]
     },
     "execution_count": 3,
     "metadata": {},
     "output_type": "execute_result"
    }
   ],
   "source": [
    "data = pd.read_csv(\"/Users/zeel/Desktop/research/validation_data.csv\",header=None)\n",
    "data.head()"
   ]
  },
  {
   "cell_type": "code",
   "execution_count": 4,
   "metadata": {},
   "outputs": [],
   "source": [
    "data_transformed = data.T"
   ]
  },
  {
   "cell_type": "code",
   "execution_count": 5,
   "metadata": {},
   "outputs": [],
   "source": [
    "sch_false = data_transformed[data_transformed[10] == \"schizophrenia: FALSE\"]"
   ]
  },
  {
   "cell_type": "code",
   "execution_count": 6,
   "metadata": {},
   "outputs": [
    {
     "data": {
      "text/plain": [
       "10    CHINFAM-11: Blood_CTR_Famine1\n",
       "18    CHINFAM-19: Blood_CTR_Famine2\n",
       "21    CHINFAM-22: Blood_CTR_Famine3\n",
       "32    CHINFAM-33: Blood_CTR_Famine4\n",
       "44    CHINFAM-45: Blood_CTR_Famine5\n",
       "Name: 0, dtype: object"
      ]
     },
     "execution_count": 6,
     "metadata": {},
     "output_type": "execute_result"
    }
   ],
   "source": [
    "famine_list = sch_false[sch_false[11] == \"famine: Yes\"][0]\n",
    "famine_list.head()"
   ]
  },
  {
   "cell_type": "code",
   "execution_count": 7,
   "metadata": {},
   "outputs": [
    {
     "data": {
      "text/plain": [
       "1     CHINFAM-02: Blood_CTR_Non_Famine1\n",
       "3     CHINFAM-04: Blood_CTR_Non_Famine2\n",
       "5     CHINFAM-06: Blood_CTR_Non_Famine3\n",
       "8     CHINFAM-09: Blood_CTR_Non_Famine4\n",
       "12    CHINFAM-13: Blood_CTR_Non_Famine5\n",
       "Name: 0, dtype: object"
      ]
     },
     "execution_count": 7,
     "metadata": {},
     "output_type": "execute_result"
    }
   ],
   "source": [
    "nonfamine_list = sch_false[sch_false[11] == \"famine: No\"][0]\n",
    "nonfamine_list.head()"
   ]
  },
  {
   "cell_type": "code",
   "execution_count": 8,
   "metadata": {},
   "outputs": [],
   "source": [
    "famine_cleaned=[]\n",
    "for i in famine_list:\n",
    "    j=i.split(\":\")\n",
    "    famine_cleaned.append(j[0])"
   ]
  },
  {
   "cell_type": "code",
   "execution_count": 9,
   "metadata": {},
   "outputs": [],
   "source": [
    "nonfamine_cleaned=[]\n",
    "for i in nonfamine_list:\n",
    "    j=i.split(\":\")\n",
    "    nonfamine_cleaned.append(j[0])"
   ]
  },
  {
   "cell_type": "code",
   "execution_count": 10,
   "metadata": {},
   "outputs": [
    {
     "name": "stdout",
     "output_type": "stream",
     "text": [
      "['famine', 'famine', 'famine', 'famine', 'famine', 'famine', 'famine', 'famine', 'famine', 'famine', 'famine', 'famine', 'famine', 'famine', 'famine', 'famine', 'famine', 'famine', 'famine', 'famine', 'famine', 'famine', 'famine', 'famine', 'famine', 'nonfamine', 'nonfamine', 'nonfamine', 'nonfamine', 'nonfamine', 'nonfamine', 'nonfamine', 'nonfamine', 'nonfamine', 'nonfamine', 'nonfamine', 'nonfamine', 'nonfamine', 'nonfamine', 'nonfamine', 'nonfamine', 'nonfamine', 'nonfamine', 'nonfamine', 'nonfamine', 'nonfamine', 'nonfamine', 'nonfamine', 'nonfamine', 'nonfamine', 'nonfamine', 'nonfamine', 'nonfamine', 'nonfamine', 'nonfamine', 'nonfamine', 'nonfamine', 'nonfamine', 'nonfamine', 'nonfamine', 'nonfamine', 'nonfamine', 'nonfamine', 'nonfamine', 'nonfamine', 'nonfamine', 'nonfamine', 'nonfamine', 'nonfamine', 'nonfamine', 'nonfamine', 'nonfamine', 'nonfamine', 'nonfamine', 'nonfamine', 'nonfamine', 'nonfamine', 'nonfamine', 'nonfamine']\n"
     ]
    }
   ],
   "source": [
    "group_ids=[]\n",
    "for id in h_data[\"ID\"]:\n",
    "    if id in famine_cleaned:\n",
    "        group_ids.append(\"famine\")        \n",
    "    else:\n",
    "        group_ids.append(\"nonfamine\")\n",
    "print(group_ids)"
   ]
  },
  {
   "cell_type": "code",
   "execution_count": 11,
   "metadata": {},
   "outputs": [
    {
     "data": {
      "text/html": [
       "<div>\n",
       "<style scoped>\n",
       "    .dataframe tbody tr th:only-of-type {\n",
       "        vertical-align: middle;\n",
       "    }\n",
       "\n",
       "    .dataframe tbody tr th {\n",
       "        vertical-align: top;\n",
       "    }\n",
       "\n",
       "    .dataframe thead th {\n",
       "        text-align: right;\n",
       "    }\n",
       "</style>\n",
       "<table border=\"1\" class=\"dataframe\">\n",
       "  <thead>\n",
       "    <tr style=\"text-align: right;\">\n",
       "      <th></th>\n",
       "      <th>ID</th>\n",
       "      <th>CD4+</th>\n",
       "      <th>CD8+</th>\n",
       "      <th>mono</th>\n",
       "      <th>Bcells</th>\n",
       "      <th>NK</th>\n",
       "      <th>Nue</th>\n",
       "      <th>Eos</th>\n",
       "      <th>group_ids</th>\n",
       "    </tr>\n",
       "  </thead>\n",
       "  <tbody>\n",
       "    <tr>\n",
       "      <th>0</th>\n",
       "      <td>CHINFAM-11</td>\n",
       "      <td>0.184082</td>\n",
       "      <td>0.200675</td>\n",
       "      <td>0.042691</td>\n",
       "      <td>0.076032</td>\n",
       "      <td>0.016462</td>\n",
       "      <td>0.480054</td>\n",
       "      <td>2.531794e-06</td>\n",
       "      <td>famine</td>\n",
       "    </tr>\n",
       "    <tr>\n",
       "      <th>1</th>\n",
       "      <td>CHINFAM-19</td>\n",
       "      <td>0.106372</td>\n",
       "      <td>0.044679</td>\n",
       "      <td>0.017786</td>\n",
       "      <td>0.018260</td>\n",
       "      <td>0.047409</td>\n",
       "      <td>0.765489</td>\n",
       "      <td>4.062222e-06</td>\n",
       "      <td>famine</td>\n",
       "    </tr>\n",
       "    <tr>\n",
       "      <th>2</th>\n",
       "      <td>CHINFAM-22</td>\n",
       "      <td>0.141655</td>\n",
       "      <td>0.221334</td>\n",
       "      <td>0.046951</td>\n",
       "      <td>0.040922</td>\n",
       "      <td>0.082415</td>\n",
       "      <td>0.466721</td>\n",
       "      <td>2.513729e-06</td>\n",
       "      <td>famine</td>\n",
       "    </tr>\n",
       "    <tr>\n",
       "      <th>3</th>\n",
       "      <td>CHINFAM-33</td>\n",
       "      <td>0.125805</td>\n",
       "      <td>0.068628</td>\n",
       "      <td>0.045031</td>\n",
       "      <td>0.014951</td>\n",
       "      <td>0.027166</td>\n",
       "      <td>0.718412</td>\n",
       "      <td>7.222435e-06</td>\n",
       "      <td>famine</td>\n",
       "    </tr>\n",
       "    <tr>\n",
       "      <th>4</th>\n",
       "      <td>CHINFAM-45</td>\n",
       "      <td>0.097219</td>\n",
       "      <td>0.113603</td>\n",
       "      <td>0.003153</td>\n",
       "      <td>0.039283</td>\n",
       "      <td>0.085683</td>\n",
       "      <td>0.661057</td>\n",
       "      <td>2.308937e-06</td>\n",
       "      <td>famine</td>\n",
       "    </tr>\n",
       "    <tr>\n",
       "      <th>...</th>\n",
       "      <td>...</td>\n",
       "      <td>...</td>\n",
       "      <td>...</td>\n",
       "      <td>...</td>\n",
       "      <td>...</td>\n",
       "      <td>...</td>\n",
       "      <td>...</td>\n",
       "      <td>...</td>\n",
       "      <td>...</td>\n",
       "    </tr>\n",
       "    <tr>\n",
       "      <th>74</th>\n",
       "      <td>CHINFAM-138</td>\n",
       "      <td>0.154947</td>\n",
       "      <td>0.109915</td>\n",
       "      <td>0.029861</td>\n",
       "      <td>0.084143</td>\n",
       "      <td>0.034883</td>\n",
       "      <td>0.586250</td>\n",
       "      <td>2.374206e-07</td>\n",
       "      <td>nonfamine</td>\n",
       "    </tr>\n",
       "    <tr>\n",
       "      <th>75</th>\n",
       "      <td>CHINFAM-140</td>\n",
       "      <td>0.137141</td>\n",
       "      <td>0.075844</td>\n",
       "      <td>0.020404</td>\n",
       "      <td>0.045333</td>\n",
       "      <td>0.076789</td>\n",
       "      <td>0.644489</td>\n",
       "      <td>7.229273e-07</td>\n",
       "      <td>nonfamine</td>\n",
       "    </tr>\n",
       "    <tr>\n",
       "      <th>76</th>\n",
       "      <td>CHINFAM-149</td>\n",
       "      <td>0.100558</td>\n",
       "      <td>0.111149</td>\n",
       "      <td>0.039232</td>\n",
       "      <td>0.089726</td>\n",
       "      <td>0.001578</td>\n",
       "      <td>0.657757</td>\n",
       "      <td>2.645020e-07</td>\n",
       "      <td>nonfamine</td>\n",
       "    </tr>\n",
       "    <tr>\n",
       "      <th>77</th>\n",
       "      <td>CHINFAM-150</td>\n",
       "      <td>0.106641</td>\n",
       "      <td>0.161458</td>\n",
       "      <td>0.043728</td>\n",
       "      <td>0.090477</td>\n",
       "      <td>0.101034</td>\n",
       "      <td>0.496651</td>\n",
       "      <td>1.125927e-05</td>\n",
       "      <td>nonfamine</td>\n",
       "    </tr>\n",
       "    <tr>\n",
       "      <th>78</th>\n",
       "      <td>CHINFAM-153</td>\n",
       "      <td>0.169528</td>\n",
       "      <td>0.110229</td>\n",
       "      <td>0.068994</td>\n",
       "      <td>0.022918</td>\n",
       "      <td>0.052402</td>\n",
       "      <td>0.575922</td>\n",
       "      <td>7.372384e-06</td>\n",
       "      <td>nonfamine</td>\n",
       "    </tr>\n",
       "  </tbody>\n",
       "</table>\n",
       "<p>79 rows × 9 columns</p>\n",
       "</div>"
      ],
      "text/plain": [
       "             ID      CD4+      CD8+      mono    Bcells        NK       Nue  \\\n",
       "0    CHINFAM-11  0.184082  0.200675  0.042691  0.076032  0.016462  0.480054   \n",
       "1    CHINFAM-19  0.106372  0.044679  0.017786  0.018260  0.047409  0.765489   \n",
       "2    CHINFAM-22  0.141655  0.221334  0.046951  0.040922  0.082415  0.466721   \n",
       "3    CHINFAM-33  0.125805  0.068628  0.045031  0.014951  0.027166  0.718412   \n",
       "4    CHINFAM-45  0.097219  0.113603  0.003153  0.039283  0.085683  0.661057   \n",
       "..          ...       ...       ...       ...       ...       ...       ...   \n",
       "74  CHINFAM-138  0.154947  0.109915  0.029861  0.084143  0.034883  0.586250   \n",
       "75  CHINFAM-140  0.137141  0.075844  0.020404  0.045333  0.076789  0.644489   \n",
       "76  CHINFAM-149  0.100558  0.111149  0.039232  0.089726  0.001578  0.657757   \n",
       "77  CHINFAM-150  0.106641  0.161458  0.043728  0.090477  0.101034  0.496651   \n",
       "78  CHINFAM-153  0.169528  0.110229  0.068994  0.022918  0.052402  0.575922   \n",
       "\n",
       "             Eos  group_ids  \n",
       "0   2.531794e-06     famine  \n",
       "1   4.062222e-06     famine  \n",
       "2   2.513729e-06     famine  \n",
       "3   7.222435e-06     famine  \n",
       "4   2.308937e-06     famine  \n",
       "..           ...        ...  \n",
       "74  2.374206e-07  nonfamine  \n",
       "75  7.229273e-07  nonfamine  \n",
       "76  2.645020e-07  nonfamine  \n",
       "77  1.125927e-05  nonfamine  \n",
       "78  7.372384e-06  nonfamine  \n",
       "\n",
       "[79 rows x 9 columns]"
      ]
     },
     "execution_count": 11,
     "metadata": {},
     "output_type": "execute_result"
    }
   ],
   "source": [
    "h_data[\"group_ids\"]=group_ids\n",
    "h_data"
   ]
  },
  {
   "cell_type": "code",
   "execution_count": 12,
   "metadata": {},
   "outputs": [
    {
     "data": {
      "image/png": "[encoded data removed]",
      "text/plain": [
       "<Figure size 360x360 with 1 Axes>"
      ]
     },
     "metadata": {},
     "output_type": "display_data"
    }
   ],
   "source": [
    "plt.figure(figsize=(5, 5))\n",
    "sns.boxplot(\"group_ids\", \"CD4+\", data=h_data, palette=sns.color_palette(\"Reds\", 2))\n",
    "plt.xticks(rotation=90)\n",
    "plt.ylabel(\"CD4+\")\n",
    "plt.show()"
   ]
  },
  {
   "cell_type": "code",
   "execution_count": 13,
   "metadata": {},
   "outputs": [
    {
     "name": "stdout",
     "output_type": "stream",
     "text": [
      "Optimization terminated successfully.\n",
      "         Current function value: 0.622857\n",
      "         Iterations 5\n",
      "                          MNLogit Regression Results                          \n",
      "==============================================================================\n",
      "Dep. Variable:                      y   No. Observations:                   79\n",
      "Model:                        MNLogit   Df Residuals:                       77\n",
      "Method:                           MLE   Df Model:                            1\n",
      "Date:                Sat, 10 Jul 2021   Pseudo R-squ.:                0.002101\n",
      "Time:                        02:36:51   Log-Likelihood:                -49.206\n",
      "converged:                       True   LL-Null:                       -49.309\n",
      "Covariance Type:            nonrobust   LLR p-value:                    0.6489\n",
      "===============================================================================\n",
      "y=nonfamine       coef    std err          z      P>|z|      [0.025      0.975]\n",
      "-------------------------------------------------------------------------------\n",
      "const           1.1225      0.816      1.376      0.169      -0.476       2.721\n",
      "x1             -2.4506      5.384     -0.455      0.649     -13.002       8.101\n",
      "===============================================================================\n"
     ]
    }
   ],
   "source": [
    "X = h_data[\"CD4+\"].values\n",
    "Y = h_data[\"group_ids\"].values\n",
    "x2 = sm.add_constant(X.astype(float))\n",
    "est = sm.MNLogit(Y, x2)\n",
    "est2 = est.fit()\n",
    "print(est2.summary())"
   ]
  },
  {
   "cell_type": "code",
   "execution_count": 14,
   "metadata": {},
   "outputs": [
    {
     "data": {
      "image/png": "[encoded data removed]",
      "text/plain": [
       "<Figure size 360x360 with 1 Axes>"
      ]
     },
     "metadata": {},
     "output_type": "display_data"
    }
   ],
   "source": [
    "plt.figure(figsize=(5, 5))\n",
    "sns.boxplot(\"group_ids\", \"CD8+\", data=h_data, palette=sns.color_palette(\"Reds\", 2))\n",
    "plt.xticks(rotation=90)\n",
    "plt.ylabel(\"CD8+\")\n",
    "plt.show()"
   ]
  },
  {
   "cell_type": "code",
   "execution_count": 15,
   "metadata": {},
   "outputs": [
    {
     "name": "stdout",
     "output_type": "stream",
     "text": [
      "Optimization terminated successfully.\n",
      "         Current function value: 0.611517\n",
      "         Iterations 5\n",
      "                          MNLogit Regression Results                          \n",
      "==============================================================================\n",
      "Dep. Variable:                      y   No. Observations:                   79\n",
      "Model:                        MNLogit   Df Residuals:                       77\n",
      "Method:                           MLE   Df Model:                            1\n",
      "Date:                Sat, 10 Jul 2021   Pseudo R-squ.:                 0.02027\n",
      "Time:                        02:36:51   Log-Likelihood:                -48.310\n",
      "converged:                       True   LL-Null:                       -49.309\n",
      "Covariance Type:            nonrobust   LLR p-value:                    0.1574\n",
      "===============================================================================\n",
      "y=nonfamine       coef    std err          z      P>|z|      [0.025      0.975]\n",
      "-------------------------------------------------------------------------------\n",
      "const           1.5591      0.623      2.502      0.012       0.338       2.780\n",
      "x1             -7.5174      5.345     -1.407      0.160     -17.993       2.958\n",
      "===============================================================================\n"
     ]
    }
   ],
   "source": [
    "X = h_data[\"CD8+\"].values\n",
    "Y = h_data[\"group_ids\"].values\n",
    "x2 = sm.add_constant(X.astype(float))\n",
    "est = sm.MNLogit(Y, x2)\n",
    "est2 = est.fit()\n",
    "print(est2.summary())"
   ]
  },
  {
   "cell_type": "code",
   "execution_count": 16,
   "metadata": {},
   "outputs": [
    {
     "data": {
      "image/png": "[encoded data removed]",
      "text/plain": [
       "<Figure size 360x360 with 1 Axes>"
      ]
     },
     "metadata": {},
     "output_type": "display_data"
    }
   ],
   "source": [
    "plt.figure(figsize=(5, 5))\n",
    "sns.boxplot(\"group_ids\", \"mono\", data=h_data, palette=sns.color_palette(\"Reds\", 2))\n",
    "plt.xticks(rotation=90)\n",
    "plt.ylabel(\"mono\")\n",
    "plt.show()"
   ]
  },
  {
   "cell_type": "code",
   "execution_count": 17,
   "metadata": {},
   "outputs": [
    {
     "name": "stdout",
     "output_type": "stream",
     "text": [
      "Optimization terminated successfully.\n",
      "         Current function value: 0.622407\n",
      "         Iterations 5\n",
      "                          MNLogit Regression Results                          \n",
      "==============================================================================\n",
      "Dep. Variable:                      y   No. Observations:                   79\n",
      "Model:                        MNLogit   Df Residuals:                       77\n",
      "Method:                           MLE   Df Model:                            1\n",
      "Date:                Sat, 10 Jul 2021   Pseudo R-squ.:                0.002822\n",
      "Time:                        02:36:51   Log-Likelihood:                -49.170\n",
      "converged:                       True   LL-Null:                       -49.309\n",
      "Covariance Type:            nonrobust   LLR p-value:                    0.5978\n",
      "===============================================================================\n",
      "y=nonfamine       coef    std err          z      P>|z|      [0.025      0.975]\n",
      "-------------------------------------------------------------------------------\n",
      "const           0.4925      0.575      0.857      0.392      -0.634       1.619\n",
      "x1              6.8545     13.013      0.527      0.598     -18.651      32.360\n",
      "===============================================================================\n"
     ]
    }
   ],
   "source": [
    "X = h_data[\"mono\"].values\n",
    "Y = h_data[\"group_ids\"].values\n",
    "x2 = sm.add_constant(X.astype(float))\n",
    "est = sm.MNLogit(Y, x2)\n",
    "est2 = est.fit()\n",
    "print(est2.summary())\n"
   ]
  },
  {
   "cell_type": "code",
   "execution_count": 18,
   "metadata": {},
   "outputs": [
    {
     "data": {
      "image/png": "[encoded data removed]",
      "text/plain": [
       "<Figure size 360x360 with 1 Axes>"
      ]
     },
     "metadata": {},
     "output_type": "display_data"
    }
   ],
   "source": [
    "plt.figure(figsize=(5, 5))\n",
    "sns.boxplot(\"group_ids\", \"Bcells\", data=h_data, palette=sns.color_palette(\"Reds\", 2))\n",
    "plt.xticks(rotation=90)\n",
    "plt.ylabel(\"Bcells\")\n",
    "plt.show()"
   ]
  },
  {
   "cell_type": "code",
   "execution_count": 19,
   "metadata": {},
   "outputs": [
    {
     "name": "stdout",
     "output_type": "stream",
     "text": [
      "Optimization terminated successfully.\n",
      "         Current function value: 0.624090\n",
      "         Iterations 5\n",
      "                          MNLogit Regression Results                          \n",
      "==============================================================================\n",
      "Dep. Variable:                      y   No. Observations:                   79\n",
      "Model:                        MNLogit   Df Residuals:                       77\n",
      "Method:                           MLE   Df Model:                            1\n",
      "Date:                Sat, 10 Jul 2021   Pseudo R-squ.:               0.0001262\n",
      "Time:                        02:36:51   Log-Likelihood:                -49.303\n",
      "converged:                       True   LL-Null:                       -49.309\n",
      "Covariance Type:            nonrobust   LLR p-value:                    0.9112\n",
      "===============================================================================\n",
      "y=nonfamine       coef    std err          z      P>|z|      [0.025      0.975]\n",
      "-------------------------------------------------------------------------------\n",
      "const           0.8124      0.450      1.805      0.071      -0.070       1.695\n",
      "x1             -0.9609      8.604     -0.112      0.911     -17.825      15.903\n",
      "===============================================================================\n"
     ]
    }
   ],
   "source": [
    "X = h_data[\"Bcells\"].values\n",
    "Y = h_data[\"group_ids\"].values\n",
    "x2 = sm.add_constant(X.astype(float))\n",
    "est = sm.MNLogit(Y, x2)\n",
    "est2 = est.fit()\n",
    "print(est2.summary())"
   ]
  },
  {
   "cell_type": "code",
   "execution_count": 20,
   "metadata": {},
   "outputs": [
    {
     "data": {
      "image/png": "[encoded data removed]",
      "text/plain": [
       "<Figure size 360x360 with 1 Axes>"
      ]
     },
     "metadata": {},
     "output_type": "display_data"
    }
   ],
   "source": [
    "plt.figure(figsize=(5, 5))\n",
    "sns.boxplot(\"group_ids\", \"NK\", data=h_data, palette=sns.color_palette(\"Reds\", 2))\n",
    "plt.xticks(rotation=90)\n",
    "plt.ylabel(\"NK\")\n",
    "plt.show()"
   ]
  },
  {
   "cell_type": "code",
   "execution_count": 21,
   "metadata": {},
   "outputs": [
    {
     "name": "stdout",
     "output_type": "stream",
     "text": [
      "Optimization terminated successfully.\n",
      "         Current function value: 0.621849\n",
      "         Iterations 5\n",
      "                          MNLogit Regression Results                          \n",
      "==============================================================================\n",
      "Dep. Variable:                      y   No. Observations:                   79\n",
      "Model:                        MNLogit   Df Residuals:                       77\n",
      "Method:                           MLE   Df Model:                            1\n",
      "Date:                Sat, 10 Jul 2021   Pseudo R-squ.:                0.003717\n",
      "Time:                        02:36:51   Log-Likelihood:                -49.126\n",
      "converged:                       True   LL-Null:                       -49.309\n",
      "Covariance Type:            nonrobust   LLR p-value:                    0.5449\n",
      "===============================================================================\n",
      "y=nonfamine       coef    std err          z      P>|z|      [0.025      0.975]\n",
      "-------------------------------------------------------------------------------\n",
      "const           0.9533      0.390      2.443      0.015       0.189       1.718\n",
      "x1             -2.8772      4.719     -0.610      0.542     -12.126       6.371\n",
      "===============================================================================\n"
     ]
    }
   ],
   "source": [
    "X = h_data[\"NK\"].values\n",
    "Y = h_data[\"group_ids\"].values\n",
    "x2 = sm.add_constant(X.astype(float))\n",
    "est = sm.MNLogit(Y, x2)\n",
    "est2 = est.fit()\n",
    "print(est2.summary())"
   ]
  },
  {
   "cell_type": "code",
   "execution_count": 22,
   "metadata": {},
   "outputs": [
    {
     "data": {
      "image/png": "[encoded data removed]",
      "text/plain": [
       "<Figure size 360x360 with 1 Axes>"
      ]
     },
     "metadata": {},
     "output_type": "display_data"
    }
   ],
   "source": [
    "plt.figure(figsize=(5, 5))\n",
    "sns.boxplot(\"group_ids\", \"Nue\", data=h_data, palette=sns.color_palette(\"Reds\", 2))\n",
    "plt.xticks(rotation=90)\n",
    "plt.ylabel(\"Nue\")\n",
    "plt.show()"
   ]
  },
  {
   "cell_type": "code",
   "execution_count": 23,
   "metadata": {},
   "outputs": [
    {
     "name": "stdout",
     "output_type": "stream",
     "text": [
      "Optimization terminated successfully.\n",
      "         Current function value: 0.615793\n",
      "         Iterations 5\n",
      "                          MNLogit Regression Results                          \n",
      "==============================================================================\n",
      "Dep. Variable:                      y   No. Observations:                   79\n",
      "Model:                        MNLogit   Df Residuals:                       77\n",
      "Method:                           MLE   Df Model:                            1\n",
      "Date:                Sat, 10 Jul 2021   Pseudo R-squ.:                 0.01342\n",
      "Time:                        02:36:51   Log-Likelihood:                -48.648\n",
      "converged:                       True   LL-Null:                       -49.309\n",
      "Covariance Type:            nonrobust   LLR p-value:                    0.2500\n",
      "===============================================================================\n",
      "y=nonfamine       coef    std err          z      P>|z|      [0.025      0.975]\n",
      "-------------------------------------------------------------------------------\n",
      "const          -1.0321      1.588     -0.650      0.516      -4.144       2.080\n",
      "x1              2.9910      2.623      1.140      0.254      -2.149       8.131\n",
      "===============================================================================\n"
     ]
    }
   ],
   "source": [
    "X = h_data[\"Nue\"].values\n",
    "Y = h_data[\"group_ids\"].values\n",
    "x2 = sm.add_constant(X.astype(float))\n",
    "est = sm.MNLogit(Y, x2)\n",
    "est2 = est.fit()\n",
    "print(est2.summary())"
   ]
  },
  {
   "cell_type": "code",
   "execution_count": 24,
   "metadata": {},
   "outputs": [
    {
     "data": {
      "image/png": "[encoded data removed]",
      "text/plain": [
       "<Figure size 360x360 with 1 Axes>"
      ]
     },
     "metadata": {},
     "output_type": "display_data"
    }
   ],
   "source": [
    "plt.figure(figsize=(5, 5))\n",
    "sns.boxplot(\"group_ids\", \"Eos\", data=h_data, palette=sns.color_palette(\"Reds\", 2))\n",
    "plt.xticks(rotation=90)\n",
    "plt.ylabel(\"Eos\")\n",
    "plt.show()"
   ]
  },
  {
   "cell_type": "code",
   "execution_count": 25,
   "metadata": {},
   "outputs": [
    {
     "name": "stdout",
     "output_type": "stream",
     "text": [
      "Optimization terminated successfully.\n",
      "         Current function value: 0.622794\n",
      "         Iterations 6\n",
      "                          MNLogit Regression Results                          \n",
      "==============================================================================\n",
      "Dep. Variable:                      y   No. Observations:                   79\n",
      "Model:                        MNLogit   Df Residuals:                       77\n",
      "Method:                           MLE   Df Model:                            1\n",
      "Date:                Sat, 10 Jul 2021   Pseudo R-squ.:                0.002202\n",
      "Time:                        02:36:51   Log-Likelihood:                -49.201\n",
      "converged:                       True   LL-Null:                       -49.309\n",
      "Covariance Type:            nonrobust   LLR p-value:                    0.6412\n",
      "===============================================================================\n",
      "y=nonfamine       coef    std err          z      P>|z|      [0.025      0.975]\n",
      "-------------------------------------------------------------------------------\n",
      "const           0.7555      0.244      3.102      0.002       0.278       1.233\n",
      "x1             55.9434    137.599      0.407      0.684    -213.746     325.633\n",
      "===============================================================================\n"
     ]
    }
   ],
   "source": [
    "X = h_data[\"Eos\"].values\n",
    "Y = h_data[\"group_ids\"].values\n",
    "x2 = sm.add_constant(X.astype(float))\n",
    "est = sm.MNLogit(Y, x2)\n",
    "est2 = est.fit()\n",
    "print(est2.summary())"
   ]
  }
 ],
 "metadata": {
  "kernelspec": {
   "display_name": "Python 3",
   "language": "python",
   "name": "python3"
  },
  "language_info": {
   "codemirror_mode": {
    "name": "ipython",
    "version": 3
   },
   "file_extension": ".py",
   "mimetype": "text/x-python",
   "name": "python",
   "nbconvert_exporter": "python",
   "pygments_lexer": "ipython3",
   "version": "3.8.3"
  }
 },
 "nbformat": 4,
 "nbformat_minor": 4
}
